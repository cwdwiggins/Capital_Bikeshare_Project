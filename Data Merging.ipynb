{
 "cells": [
  {
   "cell_type": "markdown",
   "id": "5da8a1ce",
   "metadata": {},
   "source": [
    "This notebook is to create a CSV that aggregates ride information for each day"
   ]
  },
  {
   "cell_type": "code",
   "execution_count": 1,
   "id": "b535c5de",
   "metadata": {},
   "outputs": [],
   "source": [
    "import pandas as pd\n",
    "import duckdb"
   ]
  },
  {
   "cell_type": "code",
   "execution_count": 2,
   "id": "3d52f85c",
   "metadata": {},
   "outputs": [
    {
     "name": "stderr",
     "output_type": "stream",
     "text": [
      "D:\\Programs\\Anaconda\\Dwiggins\\AppData\\Local\\Temp\\ipykernel_15636\\3272475400.py:3: DtypeWarning: Columns (5,7) have mixed types. Specify dtype option on import or set low_memory=False.\n",
      "  daily_rentals = pd.read_csv('daily_rent_detail.csv', usecols=daily_rentals_columns)\n"
     ]
    }
   ],
   "source": [
    "daily_rentals_columns = ['ride_id', 'started_at', 'ended_at', 'start_station_id', 'end_station_id', 'member_casual']\n",
    "\n",
    "daily_rentals = pd.read_csv('daily_rent_detail.csv', usecols=daily_rentals_columns)"
   ]
  },
  {
   "cell_type": "code",
   "execution_count": 3,
   "id": "061e7b04",
   "metadata": {},
   "outputs": [
    {
     "data": {
      "text/plain": [
       "ride_id             string[python]\n",
       "started_at          datetime64[ns]\n",
       "ended_at            datetime64[ns]\n",
       "start_station_id    string[python]\n",
       "end_station_id      string[python]\n",
       "member_casual       string[python]\n",
       "dtype: object"
      ]
     },
     "execution_count": 3,
     "metadata": {},
     "output_type": "execute_result"
    }
   ],
   "source": [
    "daily_rentals['ride_id'] = daily_rentals['ride_id'].astype('string')\n",
    "daily_rentals['started_at'] = pd.to_datetime(daily_rentals['started_at'], format = 'ISO8601')\n",
    "daily_rentals['ended_at'] = pd.to_datetime(daily_rentals['ended_at'], format = 'ISO8601')\n",
    "daily_rentals['start_station_id'] = daily_rentals['start_station_id'].astype('string')\n",
    "daily_rentals['end_station_id'] = daily_rentals['end_station_id'].astype('string')\n",
    "daily_rentals['member_casual'] = daily_rentals['member_casual'].astype('string')\n",
    "\n",
    "daily_rentals.dtypes"
   ]
  },
  {
   "cell_type": "code",
   "execution_count": 5,
   "id": "58181bcf",
   "metadata": {},
   "outputs": [
    {
     "data": {
      "text/html": [
       "<div>\n",
       "<style scoped>\n",
       "    .dataframe tbody tr th:only-of-type {\n",
       "        vertical-align: middle;\n",
       "    }\n",
       "\n",
       "    .dataframe tbody tr th {\n",
       "        vertical-align: top;\n",
       "    }\n",
       "\n",
       "    .dataframe thead th {\n",
       "        text-align: right;\n",
       "    }\n",
       "</style>\n",
       "<table border=\"1\" class=\"dataframe\">\n",
       "  <thead>\n",
       "    <tr style=\"text-align: right;\">\n",
       "      <th></th>\n",
       "      <th>date</th>\n",
       "      <th>total_rides</th>\n",
       "      <th>total_duration_mins</th>\n",
       "    </tr>\n",
       "  </thead>\n",
       "  <tbody>\n",
       "    <tr>\n",
       "      <th>0</th>\n",
       "      <td>2020-05-01</td>\n",
       "      <td>2969</td>\n",
       "      <td>91076.58</td>\n",
       "    </tr>\n",
       "    <tr>\n",
       "      <th>1</th>\n",
       "      <td>2020-05-02</td>\n",
       "      <td>9028</td>\n",
       "      <td>897015.15</td>\n",
       "    </tr>\n",
       "    <tr>\n",
       "      <th>2</th>\n",
       "      <td>2020-05-03</td>\n",
       "      <td>3663</td>\n",
       "      <td>190313.00</td>\n",
       "    </tr>\n",
       "    <tr>\n",
       "      <th>3</th>\n",
       "      <td>2020-05-04</td>\n",
       "      <td>3718</td>\n",
       "      <td>230021.55</td>\n",
       "    </tr>\n",
       "    <tr>\n",
       "      <th>4</th>\n",
       "      <td>2020-05-05</td>\n",
       "      <td>2374</td>\n",
       "      <td>90237.02</td>\n",
       "    </tr>\n",
       "    <tr>\n",
       "      <th>...</th>\n",
       "      <td>...</td>\n",
       "      <td>...</td>\n",
       "      <td>...</td>\n",
       "    </tr>\n",
       "    <tr>\n",
       "      <th>1579</th>\n",
       "      <td>2024-08-27</td>\n",
       "      <td>21795</td>\n",
       "      <td>328821.32</td>\n",
       "    </tr>\n",
       "    <tr>\n",
       "      <th>1580</th>\n",
       "      <td>2024-08-28</td>\n",
       "      <td>20796</td>\n",
       "      <td>292875.13</td>\n",
       "    </tr>\n",
       "    <tr>\n",
       "      <th>1581</th>\n",
       "      <td>2024-08-29</td>\n",
       "      <td>16217</td>\n",
       "      <td>220978.09</td>\n",
       "    </tr>\n",
       "    <tr>\n",
       "      <th>1582</th>\n",
       "      <td>2024-08-30</td>\n",
       "      <td>17877</td>\n",
       "      <td>266101.09</td>\n",
       "    </tr>\n",
       "    <tr>\n",
       "      <th>1583</th>\n",
       "      <td>2024-08-31</td>\n",
       "      <td>20633</td>\n",
       "      <td>369080.65</td>\n",
       "    </tr>\n",
       "  </tbody>\n",
       "</table>\n",
       "<p>1584 rows × 3 columns</p>\n",
       "</div>"
      ],
      "text/plain": [
       "           date  total_rides  total_duration_mins\n",
       "0    2020-05-01         2969             91076.58\n",
       "1    2020-05-02         9028            897015.15\n",
       "2    2020-05-03         3663            190313.00\n",
       "3    2020-05-04         3718            230021.55\n",
       "4    2020-05-05         2374             90237.02\n",
       "...         ...          ...                  ...\n",
       "1579 2024-08-27        21795            328821.32\n",
       "1580 2024-08-28        20796            292875.13\n",
       "1581 2024-08-29        16217            220978.09\n",
       "1582 2024-08-30        17877            266101.09\n",
       "1583 2024-08-31        20633            369080.65\n",
       "\n",
       "[1584 rows x 3 columns]"
      ]
     },
     "execution_count": 5,
     "metadata": {},
     "output_type": "execute_result"
    }
   ],
   "source": [
    "ride_data = duckdb.sql(\"\"\"\n",
    "    SELECT\n",
    "        started_at::date AS date,\n",
    "        COUNT(ride_id) AS total_rides,\n",
    "        ROUND(SUM(EXTRACT(EPOCH FROM (ended_at - started_at)::INTERVAL)/60), 2) AS total_duration_mins\n",
    "    FROM daily_rentals\n",
    "    GROUP BY started_at::date\n",
    "    ORDER BY date\n",
    "\"\"\").fetchdf()\n",
    "\n",
    "ride_data"
   ]
  },
  {
   "cell_type": "code",
   "execution_count": 6,
   "id": "e1d4864e",
   "metadata": {},
   "outputs": [],
   "source": [
    "ride_data = ride_data.drop(ride_data[ride_data['total_duration_mins'] < 0].index, axis = 0)\n",
    "ride_data = ride_data.reset_index()"
   ]
  },
  {
   "cell_type": "code",
   "execution_count": 7,
   "id": "1b87fea0",
   "metadata": {},
   "outputs": [],
   "source": [
    "ride_data.to_csv('daily_rides_agg.csv', index = False)"
   ]
  }
 ],
 "metadata": {
  "kernelspec": {
   "display_name": "Python 3 (ipykernel)",
   "language": "python",
   "name": "python3"
  },
  "language_info": {
   "codemirror_mode": {
    "name": "ipython",
    "version": 3
   },
   "file_extension": ".py",
   "mimetype": "text/x-python",
   "name": "python",
   "nbconvert_exporter": "python",
   "pygments_lexer": "ipython3",
   "version": "3.9.19"
  }
 },
 "nbformat": 4,
 "nbformat_minor": 5
}
