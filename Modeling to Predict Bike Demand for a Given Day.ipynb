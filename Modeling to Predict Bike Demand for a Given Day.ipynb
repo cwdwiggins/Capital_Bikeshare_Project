{
 "cells": [
  {
   "cell_type": "markdown",
   "id": "6e15fadb",
   "metadata": {},
   "source": [
    "# ML Model to Predict Bike Demand on a Given Day"
   ]
  },
  {
   "cell_type": "markdown",
   "id": "164ed2ba",
   "metadata": {},
   "source": [
    "## Purpose"
   ]
  },
  {
   "cell_type": "markdown",
   "id": "24fb1e5d",
   "metadata": {},
   "source": [
    "The purpose of this model is to predict how much demand for bikes would be on a certain day based off certain features that were explored with the Capital Bikeshare dataset in Washington, DC. Some of the scenarios where this information would be useful:\n",
    "- To forsee days of high demand thus requiring higher levels of preparation and maintenance to ensure a smooth experience among riders\n",
    "    - For example, we saw that each summer, there is a higher level of demand, particularly among the casual riders, and that each fall, there is a high level of demand among the members of Capital Bikeshare\n",
    "- To forecast growth of captial bikeshare year after year to inform goals on bike manufacturing, stations, and marketing\n",
    "- If bad weather is predicted, what that could mean for losses on revenue"
   ]
  },
  {
   "cell_type": "markdown",
   "id": "5e1979b0",
   "metadata": {},
   "source": [
    "## Information from EDA"
   ]
  },
  {
   "cell_type": "markdown",
   "id": "76e22d01",
   "metadata": {},
   "source": [
    "The EDA found that the following factors contribute to bike demand (total rides and total minutes for a given day) based on a large number of factors:\n",
    "- the date\n",
    "- the time of year (the date)\n",
    "- what year it is (the date)\n",
    "- temperature\n",
    "- hours of daylight\n",
    "- whether it snows\n",
    "- how long precipitation (of any kind) is occurring throughout the day\n",
    "- the amount of liquid precipitation\n",
    "- the amount of snow accumulation\n",
    "- the dew point\n",
    "- the relative humidity\n",
    "\n",
    "The following variables are continuous:\n",
    "- the date\n",
    "- the temperature\n",
    "- the hours of daylight\n",
    "- the dew point\n",
    "- the relative humidity\n",
    "\n",
    "The following variables are discrete/categorical:\n",
    "- Whether it snows\n",
    "- Whether there is a nonzero level of snow accumulation\n",
    "- Coverage of precipitation throughout the day\n",
    "- The amount of precipitation (categorized)"
   ]
  },
  {
   "cell_type": "markdown",
   "id": "e190d04c",
   "metadata": {},
   "source": [
    "## Project Code"
   ]
  },
  {
   "cell_type": "markdown",
   "id": "c9b15b0c",
   "metadata": {},
   "source": [
    "### Dimensionality Reduction"
   ]
  },
  {
   "cell_type": "markdown",
   "id": "512aba33",
   "metadata": {},
   "source": [
    "**Should dimensionality reduction be used?**"
   ]
  },
  {
   "cell_type": "markdown",
   "id": "193e2551",
   "metadata": {},
   "source": [
    "It's possible that each of the continuous variables have some level of collinearity, and it is possible that there is some interactions between the categorical and the continuous variables (for example, it is likely that the temperature will be lower if it will snow).   \n",
    "\n",
    "The question is does this warrant some kind of dimensionality reduction?\n",
    "\n",
    "To determine that, the continuous variables should be plotted against each other."
   ]
  },
  {
   "cell_type": "code",
   "execution_count": 1,
   "id": "a634f189",
   "metadata": {},
   "outputs": [],
   "source": [
    "import matplotlib.pyplot as plt\n",
    "import seaborn as sns\n",
    "import numpy as np\n",
    "import pandas as pd"
   ]
  },
  {
   "cell_type": "code",
   "execution_count": 2,
   "id": "0a16ca85",
   "metadata": {},
   "outputs": [
    {
     "data": {
      "text/html": [
       "<div>\n",
       "<style scoped>\n",
       "    .dataframe tbody tr th:only-of-type {\n",
       "        vertical-align: middle;\n",
       "    }\n",
       "\n",
       "    .dataframe tbody tr th {\n",
       "        vertical-align: top;\n",
       "    }\n",
       "\n",
       "    .dataframe thead th {\n",
       "        text-align: right;\n",
       "    }\n",
       "</style>\n",
       "<table border=\"1\" class=\"dataframe\">\n",
       "  <thead>\n",
       "    <tr style=\"text-align: right;\">\n",
       "      <th></th>\n",
       "      <th>date</th>\n",
       "      <th>total_rides</th>\n",
       "      <th>total_duration_mins</th>\n",
       "      <th>temp</th>\n",
       "      <th>feelslike</th>\n",
       "      <th>dew</th>\n",
       "      <th>humidity</th>\n",
       "      <th>precip</th>\n",
       "      <th>precipprob</th>\n",
       "      <th>precipcover</th>\n",
       "      <th>...</th>\n",
       "      <th>snow</th>\n",
       "      <th>snowdepth</th>\n",
       "      <th>windgust</th>\n",
       "      <th>windspeed</th>\n",
       "      <th>sunrise</th>\n",
       "      <th>sunset</th>\n",
       "      <th>daylight</th>\n",
       "      <th>precipLevel</th>\n",
       "      <th>snowLevel</th>\n",
       "      <th>snowDepthLevel</th>\n",
       "    </tr>\n",
       "    <tr>\n",
       "      <th>index</th>\n",
       "      <th></th>\n",
       "      <th></th>\n",
       "      <th></th>\n",
       "      <th></th>\n",
       "      <th></th>\n",
       "      <th></th>\n",
       "      <th></th>\n",
       "      <th></th>\n",
       "      <th></th>\n",
       "      <th></th>\n",
       "      <th></th>\n",
       "      <th></th>\n",
       "      <th></th>\n",
       "      <th></th>\n",
       "      <th></th>\n",
       "      <th></th>\n",
       "      <th></th>\n",
       "      <th></th>\n",
       "      <th></th>\n",
       "      <th></th>\n",
       "      <th></th>\n",
       "    </tr>\n",
       "  </thead>\n",
       "  <tbody>\n",
       "    <tr>\n",
       "      <th>0</th>\n",
       "      <td>2020-05-02</td>\n",
       "      <td>9028</td>\n",
       "      <td>897015.15</td>\n",
       "      <td>16.3</td>\n",
       "      <td>16.3</td>\n",
       "      <td>6.4</td>\n",
       "      <td>54.0</td>\n",
       "      <td>0.000</td>\n",
       "      <td>0</td>\n",
       "      <td>0.00</td>\n",
       "      <td>...</td>\n",
       "      <td>0.0</td>\n",
       "      <td>0.0</td>\n",
       "      <td>39.6</td>\n",
       "      <td>26.1</td>\n",
       "      <td>2020-05-02 06:08:30</td>\n",
       "      <td>2020-05-02 20:02:13</td>\n",
       "      <td>13.895278</td>\n",
       "      <td>0</td>\n",
       "      <td>0</td>\n",
       "      <td>0</td>\n",
       "    </tr>\n",
       "    <tr>\n",
       "      <th>1</th>\n",
       "      <td>2020-05-03</td>\n",
       "      <td>3663</td>\n",
       "      <td>190313.00</td>\n",
       "      <td>18.6</td>\n",
       "      <td>18.6</td>\n",
       "      <td>13.4</td>\n",
       "      <td>72.5</td>\n",
       "      <td>10.234</td>\n",
       "      <td>100</td>\n",
       "      <td>16.67</td>\n",
       "      <td>...</td>\n",
       "      <td>0.0</td>\n",
       "      <td>0.0</td>\n",
       "      <td>46.8</td>\n",
       "      <td>21.4</td>\n",
       "      <td>2020-05-03 06:07:21</td>\n",
       "      <td>2020-05-03 20:03:11</td>\n",
       "      <td>13.930556</td>\n",
       "      <td>10 &lt; x &lt;= 20</td>\n",
       "      <td>0</td>\n",
       "      <td>0</td>\n",
       "    </tr>\n",
       "    <tr>\n",
       "      <th>2</th>\n",
       "      <td>2020-05-04</td>\n",
       "      <td>3718</td>\n",
       "      <td>230021.55</td>\n",
       "      <td>19.2</td>\n",
       "      <td>19.2</td>\n",
       "      <td>7.8</td>\n",
       "      <td>53.8</td>\n",
       "      <td>15.555</td>\n",
       "      <td>100</td>\n",
       "      <td>12.50</td>\n",
       "      <td>...</td>\n",
       "      <td>0.0</td>\n",
       "      <td>0.0</td>\n",
       "      <td>68.8</td>\n",
       "      <td>44.9</td>\n",
       "      <td>2020-05-04 06:06:12</td>\n",
       "      <td>2020-05-04 20:04:08</td>\n",
       "      <td>13.965556</td>\n",
       "      <td>10 &lt; x &lt;= 20</td>\n",
       "      <td>0</td>\n",
       "      <td>0</td>\n",
       "    </tr>\n",
       "    <tr>\n",
       "      <th>3</th>\n",
       "      <td>2020-05-05</td>\n",
       "      <td>2374</td>\n",
       "      <td>90237.02</td>\n",
       "      <td>12.3</td>\n",
       "      <td>12.1</td>\n",
       "      <td>3.3</td>\n",
       "      <td>55.6</td>\n",
       "      <td>4.488</td>\n",
       "      <td>100</td>\n",
       "      <td>16.67</td>\n",
       "      <td>...</td>\n",
       "      <td>0.0</td>\n",
       "      <td>0.0</td>\n",
       "      <td>28.4</td>\n",
       "      <td>24.0</td>\n",
       "      <td>2020-05-05 06:05:06</td>\n",
       "      <td>2020-05-05 20:05:05</td>\n",
       "      <td>13.999722</td>\n",
       "      <td>0 &lt; x &lt;= 10</td>\n",
       "      <td>0</td>\n",
       "      <td>0</td>\n",
       "    </tr>\n",
       "    <tr>\n",
       "      <th>4</th>\n",
       "      <td>2020-05-06</td>\n",
       "      <td>1385</td>\n",
       "      <td>53953.22</td>\n",
       "      <td>11.2</td>\n",
       "      <td>10.5</td>\n",
       "      <td>7.8</td>\n",
       "      <td>80.9</td>\n",
       "      <td>1.657</td>\n",
       "      <td>100</td>\n",
       "      <td>33.33</td>\n",
       "      <td>...</td>\n",
       "      <td>0.0</td>\n",
       "      <td>0.0</td>\n",
       "      <td>42.7</td>\n",
       "      <td>27.0</td>\n",
       "      <td>2020-05-06 06:04:00</td>\n",
       "      <td>2020-05-06 20:06:02</td>\n",
       "      <td>14.033889</td>\n",
       "      <td>0 &lt; x &lt;= 10</td>\n",
       "      <td>0</td>\n",
       "      <td>0</td>\n",
       "    </tr>\n",
       "  </tbody>\n",
       "</table>\n",
       "<p>5 rows × 21 columns</p>\n",
       "</div>"
      ],
      "text/plain": [
       "             date  total_rides  total_duration_mins  temp  feelslike   dew  \\\n",
       "index                                                                        \n",
       "0      2020-05-02         9028            897015.15  16.3       16.3   6.4   \n",
       "1      2020-05-03         3663            190313.00  18.6       18.6  13.4   \n",
       "2      2020-05-04         3718            230021.55  19.2       19.2   7.8   \n",
       "3      2020-05-05         2374             90237.02  12.3       12.1   3.3   \n",
       "4      2020-05-06         1385             53953.22  11.2       10.5   7.8   \n",
       "\n",
       "       humidity  precip  precipprob  precipcover  ... snow  snowdepth  \\\n",
       "index                                             ...                   \n",
       "0          54.0   0.000           0         0.00  ...  0.0        0.0   \n",
       "1          72.5  10.234         100        16.67  ...  0.0        0.0   \n",
       "2          53.8  15.555         100        12.50  ...  0.0        0.0   \n",
       "3          55.6   4.488         100        16.67  ...  0.0        0.0   \n",
       "4          80.9   1.657         100        33.33  ...  0.0        0.0   \n",
       "\n",
       "       windgust  windspeed              sunrise               sunset  \\\n",
       "index                                                                  \n",
       "0          39.6       26.1  2020-05-02 06:08:30  2020-05-02 20:02:13   \n",
       "1          46.8       21.4  2020-05-03 06:07:21  2020-05-03 20:03:11   \n",
       "2          68.8       44.9  2020-05-04 06:06:12  2020-05-04 20:04:08   \n",
       "3          28.4       24.0  2020-05-05 06:05:06  2020-05-05 20:05:05   \n",
       "4          42.7       27.0  2020-05-06 06:04:00  2020-05-06 20:06:02   \n",
       "\n",
       "        daylight   precipLevel snowLevel snowDepthLevel  \n",
       "index                                                    \n",
       "0      13.895278             0         0              0  \n",
       "1      13.930556  10 < x <= 20         0              0  \n",
       "2      13.965556  10 < x <= 20         0              0  \n",
       "3      13.999722   0 < x <= 10         0              0  \n",
       "4      14.033889   0 < x <= 10         0              0  \n",
       "\n",
       "[5 rows x 21 columns]"
      ]
     },
     "execution_count": 2,
     "metadata": {},
     "output_type": "execute_result"
    }
   ],
   "source": [
    "rides_weather = pd.read_csv('rides_weather.csv', index_col = 0)\n",
    "rides_weather.head(5)"
   ]
  },
  {
   "cell_type": "code",
   "execution_count": 3,
   "id": "74f8c387",
   "metadata": {},
   "outputs": [
    {
     "data": {
      "text/plain": [
       "date                    object\n",
       "total_rides              int64\n",
       "total_duration_mins    float64\n",
       "temp                   float64\n",
       "feelslike              float64\n",
       "dew                    float64\n",
       "humidity               float64\n",
       "precip                 float64\n",
       "precipprob               int64\n",
       "precipcover            float64\n",
       "preciptype              object\n",
       "snow                   float64\n",
       "snowdepth              float64\n",
       "windgust               float64\n",
       "windspeed              float64\n",
       "sunrise                 object\n",
       "sunset                  object\n",
       "daylight               float64\n",
       "precipLevel             object\n",
       "snowLevel               object\n",
       "snowDepthLevel          object\n",
       "dtype: object"
      ]
     },
     "execution_count": 3,
     "metadata": {},
     "output_type": "execute_result"
    }
   ],
   "source": [
    "rides_weather.dtypes"
   ]
  },
  {
   "cell_type": "code",
   "execution_count": 4,
   "id": "23acb71b",
   "metadata": {},
   "outputs": [
    {
     "data": {
      "text/plain": [
       "date                   datetime64[ns]\n",
       "total_rides                     int64\n",
       "total_duration_mins           float64\n",
       "temp                          float64\n",
       "feelslike                     float64\n",
       "dew                           float64\n",
       "humidity                      float64\n",
       "precip                        float64\n",
       "precipprob                      int64\n",
       "precipcover                   float64\n",
       "preciptype             string[python]\n",
       "snow                          float64\n",
       "snowdepth                     float64\n",
       "windgust                      float64\n",
       "windspeed                     float64\n",
       "sunrise                datetime64[ns]\n",
       "sunset                 datetime64[ns]\n",
       "daylight                      float64\n",
       "precipLevel            string[python]\n",
       "snowLevel              string[python]\n",
       "snowDepthLevel         string[python]\n",
       "date_delta                    float64\n",
       "dtype: object"
      ]
     },
     "execution_count": 4,
     "metadata": {},
     "output_type": "execute_result"
    }
   ],
   "source": [
    "# Convert data types\n",
    "rides_weather['date'] = pd.to_datetime(rides_weather['date'])\n",
    "rides_weather['preciptype'] = rides_weather['preciptype'].astype('string')\n",
    "rides_weather['sunrise'] = pd.to_datetime(rides_weather['sunrise'])\n",
    "rides_weather['sunset'] = pd.to_datetime(rides_weather['sunset'])\n",
    "rides_weather['precipLevel'] = rides_weather['precipLevel'].astype('string')\n",
    "rides_weather['snowLevel'] = rides_weather['snowLevel'].astype('string')\n",
    "rides_weather['snowDepthLevel'] = rides_weather['snowDepthLevel'].astype('string')\n",
    "\n",
    "# Create a date delta column for more accurate analysis\n",
    "rides_weather['date_delta'] = (rides_weather['date'] - rides_weather['date'].min()) / (np.timedelta64(1, 'D'))\n",
    "\n",
    "\n",
    "\n",
    "rides_weather.dtypes"
   ]
  },
  {
   "cell_type": "code",
   "execution_count": 5,
   "id": "1dc9dbb4",
   "metadata": {},
   "outputs": [
    {
     "data": {
      "text/html": [
       "<div>\n",
       "<style scoped>\n",
       "    .dataframe tbody tr th:only-of-type {\n",
       "        vertical-align: middle;\n",
       "    }\n",
       "\n",
       "    .dataframe tbody tr th {\n",
       "        vertical-align: top;\n",
       "    }\n",
       "\n",
       "    .dataframe thead th {\n",
       "        text-align: right;\n",
       "    }\n",
       "</style>\n",
       "<table border=\"1\" class=\"dataframe\">\n",
       "  <thead>\n",
       "    <tr style=\"text-align: right;\">\n",
       "      <th></th>\n",
       "      <th>date</th>\n",
       "      <th>total_rides</th>\n",
       "      <th>total_duration_mins</th>\n",
       "      <th>temp</th>\n",
       "      <th>feelslike</th>\n",
       "      <th>dew</th>\n",
       "      <th>humidity</th>\n",
       "      <th>precip</th>\n",
       "      <th>precipprob</th>\n",
       "      <th>precipcover</th>\n",
       "      <th>...</th>\n",
       "      <th>snowdepth</th>\n",
       "      <th>windgust</th>\n",
       "      <th>windspeed</th>\n",
       "      <th>sunrise</th>\n",
       "      <th>sunset</th>\n",
       "      <th>daylight</th>\n",
       "      <th>precipLevel</th>\n",
       "      <th>snowLevel</th>\n",
       "      <th>snowDepthLevel</th>\n",
       "      <th>date_delta</th>\n",
       "    </tr>\n",
       "  </thead>\n",
       "  <tbody>\n",
       "    <tr>\n",
       "      <th>0</th>\n",
       "      <td>2020-05-01</td>\n",
       "      <td>2969</td>\n",
       "      <td>91076.58</td>\n",
       "      <td>14.9</td>\n",
       "      <td>14.9</td>\n",
       "      <td>8.9</td>\n",
       "      <td>69.6</td>\n",
       "      <td>2.607</td>\n",
       "      <td>100</td>\n",
       "      <td>29.17</td>\n",
       "      <td>...</td>\n",
       "      <td>0.0</td>\n",
       "      <td>38.9</td>\n",
       "      <td>25.7</td>\n",
       "      <td>2020-05-01 06:09:41</td>\n",
       "      <td>2020-05-01 20:01:16</td>\n",
       "      <td>13.859722</td>\n",
       "      <td>0 &lt; x &lt;= 10</td>\n",
       "      <td>0</td>\n",
       "      <td>0</td>\n",
       "      <td>0.0</td>\n",
       "    </tr>\n",
       "    <tr>\n",
       "      <th>1</th>\n",
       "      <td>2020-05-02</td>\n",
       "      <td>9028</td>\n",
       "      <td>897015.15</td>\n",
       "      <td>16.3</td>\n",
       "      <td>16.3</td>\n",
       "      <td>6.4</td>\n",
       "      <td>54.0</td>\n",
       "      <td>0.000</td>\n",
       "      <td>0</td>\n",
       "      <td>0.00</td>\n",
       "      <td>...</td>\n",
       "      <td>0.0</td>\n",
       "      <td>39.6</td>\n",
       "      <td>26.1</td>\n",
       "      <td>2020-05-02 06:08:30</td>\n",
       "      <td>2020-05-02 20:02:13</td>\n",
       "      <td>13.895278</td>\n",
       "      <td>0</td>\n",
       "      <td>0</td>\n",
       "      <td>0</td>\n",
       "      <td>1.0</td>\n",
       "    </tr>\n",
       "    <tr>\n",
       "      <th>2</th>\n",
       "      <td>2020-05-03</td>\n",
       "      <td>3663</td>\n",
       "      <td>190313.00</td>\n",
       "      <td>18.6</td>\n",
       "      <td>18.6</td>\n",
       "      <td>13.4</td>\n",
       "      <td>72.5</td>\n",
       "      <td>10.234</td>\n",
       "      <td>100</td>\n",
       "      <td>16.67</td>\n",
       "      <td>...</td>\n",
       "      <td>0.0</td>\n",
       "      <td>46.8</td>\n",
       "      <td>21.4</td>\n",
       "      <td>2020-05-03 06:07:21</td>\n",
       "      <td>2020-05-03 20:03:11</td>\n",
       "      <td>13.930556</td>\n",
       "      <td>10 &lt; x &lt;= 20</td>\n",
       "      <td>0</td>\n",
       "      <td>0</td>\n",
       "      <td>2.0</td>\n",
       "    </tr>\n",
       "    <tr>\n",
       "      <th>3</th>\n",
       "      <td>2020-05-04</td>\n",
       "      <td>3718</td>\n",
       "      <td>230021.55</td>\n",
       "      <td>19.2</td>\n",
       "      <td>19.2</td>\n",
       "      <td>7.8</td>\n",
       "      <td>53.8</td>\n",
       "      <td>15.555</td>\n",
       "      <td>100</td>\n",
       "      <td>12.50</td>\n",
       "      <td>...</td>\n",
       "      <td>0.0</td>\n",
       "      <td>68.8</td>\n",
       "      <td>44.9</td>\n",
       "      <td>2020-05-04 06:06:12</td>\n",
       "      <td>2020-05-04 20:04:08</td>\n",
       "      <td>13.965556</td>\n",
       "      <td>10 &lt; x &lt;= 20</td>\n",
       "      <td>0</td>\n",
       "      <td>0</td>\n",
       "      <td>3.0</td>\n",
       "    </tr>\n",
       "    <tr>\n",
       "      <th>4</th>\n",
       "      <td>2020-05-05</td>\n",
       "      <td>2374</td>\n",
       "      <td>90237.02</td>\n",
       "      <td>12.3</td>\n",
       "      <td>12.1</td>\n",
       "      <td>3.3</td>\n",
       "      <td>55.6</td>\n",
       "      <td>4.488</td>\n",
       "      <td>100</td>\n",
       "      <td>16.67</td>\n",
       "      <td>...</td>\n",
       "      <td>0.0</td>\n",
       "      <td>28.4</td>\n",
       "      <td>24.0</td>\n",
       "      <td>2020-05-05 06:05:06</td>\n",
       "      <td>2020-05-05 20:05:05</td>\n",
       "      <td>13.999722</td>\n",
       "      <td>0 &lt; x &lt;= 10</td>\n",
       "      <td>0</td>\n",
       "      <td>0</td>\n",
       "      <td>4.0</td>\n",
       "    </tr>\n",
       "  </tbody>\n",
       "</table>\n",
       "<p>5 rows × 22 columns</p>\n",
       "</div>"
      ],
      "text/plain": [
       "        date  total_rides  total_duration_mins  temp  feelslike   dew  \\\n",
       "0 2020-05-01         2969             91076.58  14.9       14.9   8.9   \n",
       "1 2020-05-02         9028            897015.15  16.3       16.3   6.4   \n",
       "2 2020-05-03         3663            190313.00  18.6       18.6  13.4   \n",
       "3 2020-05-04         3718            230021.55  19.2       19.2   7.8   \n",
       "4 2020-05-05         2374             90237.02  12.3       12.1   3.3   \n",
       "\n",
       "   humidity  precip  precipprob  precipcover  ... snowdepth  windgust  \\\n",
       "0      69.6   2.607         100        29.17  ...       0.0      38.9   \n",
       "1      54.0   0.000           0         0.00  ...       0.0      39.6   \n",
       "2      72.5  10.234         100        16.67  ...       0.0      46.8   \n",
       "3      53.8  15.555         100        12.50  ...       0.0      68.8   \n",
       "4      55.6   4.488         100        16.67  ...       0.0      28.4   \n",
       "\n",
       "   windspeed             sunrise              sunset   daylight   precipLevel  \\\n",
       "0       25.7 2020-05-01 06:09:41 2020-05-01 20:01:16  13.859722   0 < x <= 10   \n",
       "1       26.1 2020-05-02 06:08:30 2020-05-02 20:02:13  13.895278             0   \n",
       "2       21.4 2020-05-03 06:07:21 2020-05-03 20:03:11  13.930556  10 < x <= 20   \n",
       "3       44.9 2020-05-04 06:06:12 2020-05-04 20:04:08  13.965556  10 < x <= 20   \n",
       "4       24.0 2020-05-05 06:05:06 2020-05-05 20:05:05  13.999722   0 < x <= 10   \n",
       "\n",
       "   snowLevel snowDepthLevel date_delta  \n",
       "0          0              0        0.0  \n",
       "1          0              0        1.0  \n",
       "2          0              0        2.0  \n",
       "3          0              0        3.0  \n",
       "4          0              0        4.0  \n",
       "\n",
       "[5 rows x 22 columns]"
      ]
     },
     "execution_count": 5,
     "metadata": {},
     "output_type": "execute_result"
    }
   ],
   "source": [
    "rides_weather = rides_weather.sort_values(by = 'date', axis = 0)\n",
    "rides_weather = rides_weather.reset_index()\n",
    "rides_weather = rides_weather.drop(labels = ['index'], axis = 1)\n",
    "rides_weather.head(5)"
   ]
  },
  {
   "cell_type": "code",
   "execution_count": 6,
   "id": "31c1f0d0",
   "metadata": {},
   "outputs": [
    {
     "data": {
      "image/png": "[encoded data removed]",
      "text/plain": [
       "<Figure size 640x480 with 2 Axes>"
      ]
     },
     "metadata": {},
     "output_type": "display_data"
    }
   ],
   "source": [
    "cont_data = rides_weather[['date_delta', 'temp', 'feelslike', 'daylight', 'dew', 'humidity']]\n",
    "\n",
    "correlation_matrix = cont_data.corr()\n",
    "\n",
    "hm = sns.heatmap(data = correlation_matrix, annot = True)\n",
    "plt.show()"
   ]
  },
  {
   "cell_type": "markdown",
   "id": "c0de4baf",
   "metadata": {},
   "source": [
    "As we can see from the heatmap, there is a large amount of correlation between a handful of continuous variables. This would present a collinearity problem, and thus it would be best to use dimensionality reduction to reduce collinearity.\n",
    "\n",
    "We will investigate whether principal component analysis (PCA) would be a good fit for this task."
   ]
  },
  {
   "cell_type": "code",
   "execution_count": 7,
   "id": "a242ed42",
   "metadata": {},
   "outputs": [
    {
     "data": {
      "text/html": [
       "<div>\n",
       "<style scoped>\n",
       "    .dataframe tbody tr th:only-of-type {\n",
       "        vertical-align: middle;\n",
       "    }\n",
       "\n",
       "    .dataframe tbody tr th {\n",
       "        vertical-align: top;\n",
       "    }\n",
       "\n",
       "    .dataframe thead th {\n",
       "        text-align: right;\n",
       "    }\n",
       "</style>\n",
       "<table border=\"1\" class=\"dataframe\">\n",
       "  <thead>\n",
       "    <tr style=\"text-align: right;\">\n",
       "      <th></th>\n",
       "      <th>date_delta</th>\n",
       "      <th>temp</th>\n",
       "      <th>feelslike</th>\n",
       "      <th>daylight</th>\n",
       "      <th>dew</th>\n",
       "      <th>humidity</th>\n",
       "    </tr>\n",
       "  </thead>\n",
       "  <tbody>\n",
       "    <tr>\n",
       "      <th>0</th>\n",
       "      <td>0.0</td>\n",
       "      <td>14.9</td>\n",
       "      <td>14.9</td>\n",
       "      <td>13.859722</td>\n",
       "      <td>8.9</td>\n",
       "      <td>69.6</td>\n",
       "    </tr>\n",
       "    <tr>\n",
       "      <th>1</th>\n",
       "      <td>1.0</td>\n",
       "      <td>16.3</td>\n",
       "      <td>16.3</td>\n",
       "      <td>13.895278</td>\n",
       "      <td>6.4</td>\n",
       "      <td>54.0</td>\n",
       "    </tr>\n",
       "    <tr>\n",
       "      <th>2</th>\n",
       "      <td>2.0</td>\n",
       "      <td>18.6</td>\n",
       "      <td>18.6</td>\n",
       "      <td>13.930556</td>\n",
       "      <td>13.4</td>\n",
       "      <td>72.5</td>\n",
       "    </tr>\n",
       "    <tr>\n",
       "      <th>3</th>\n",
       "      <td>3.0</td>\n",
       "      <td>19.2</td>\n",
       "      <td>19.2</td>\n",
       "      <td>13.965556</td>\n",
       "      <td>7.8</td>\n",
       "      <td>53.8</td>\n",
       "    </tr>\n",
       "    <tr>\n",
       "      <th>4</th>\n",
       "      <td>4.0</td>\n",
       "      <td>12.3</td>\n",
       "      <td>12.1</td>\n",
       "      <td>13.999722</td>\n",
       "      <td>3.3</td>\n",
       "      <td>55.6</td>\n",
       "    </tr>\n",
       "    <tr>\n",
       "      <th>...</th>\n",
       "      <td>...</td>\n",
       "      <td>...</td>\n",
       "      <td>...</td>\n",
       "      <td>...</td>\n",
       "      <td>...</td>\n",
       "      <td>...</td>\n",
       "    </tr>\n",
       "    <tr>\n",
       "      <th>1576</th>\n",
       "      <td>1579.0</td>\n",
       "      <td>27.7</td>\n",
       "      <td>27.9</td>\n",
       "      <td>13.203889</td>\n",
       "      <td>18.9</td>\n",
       "      <td>62.4</td>\n",
       "    </tr>\n",
       "    <tr>\n",
       "      <th>1577</th>\n",
       "      <td>1580.0</td>\n",
       "      <td>30.2</td>\n",
       "      <td>31.9</td>\n",
       "      <td>13.164167</td>\n",
       "      <td>20.4</td>\n",
       "      <td>58.7</td>\n",
       "    </tr>\n",
       "    <tr>\n",
       "      <th>1578</th>\n",
       "      <td>1581.0</td>\n",
       "      <td>28.1</td>\n",
       "      <td>30.3</td>\n",
       "      <td>13.124167</td>\n",
       "      <td>21.9</td>\n",
       "      <td>69.7</td>\n",
       "    </tr>\n",
       "    <tr>\n",
       "      <th>1579</th>\n",
       "      <td>1582.0</td>\n",
       "      <td>22.9</td>\n",
       "      <td>22.9</td>\n",
       "      <td>13.084167</td>\n",
       "      <td>20.8</td>\n",
       "      <td>87.6</td>\n",
       "    </tr>\n",
       "    <tr>\n",
       "      <th>1580</th>\n",
       "      <td>1583.0</td>\n",
       "      <td>24.1</td>\n",
       "      <td>24.4</td>\n",
       "      <td>13.043889</td>\n",
       "      <td>20.3</td>\n",
       "      <td>80.1</td>\n",
       "    </tr>\n",
       "  </tbody>\n",
       "</table>\n",
       "<p>1581 rows × 6 columns</p>\n",
       "</div>"
      ],
      "text/plain": [
       "      date_delta  temp  feelslike   daylight   dew  humidity\n",
       "0            0.0  14.9       14.9  13.859722   8.9      69.6\n",
       "1            1.0  16.3       16.3  13.895278   6.4      54.0\n",
       "2            2.0  18.6       18.6  13.930556  13.4      72.5\n",
       "3            3.0  19.2       19.2  13.965556   7.8      53.8\n",
       "4            4.0  12.3       12.1  13.999722   3.3      55.6\n",
       "...          ...   ...        ...        ...   ...       ...\n",
       "1576      1579.0  27.7       27.9  13.203889  18.9      62.4\n",
       "1577      1580.0  30.2       31.9  13.164167  20.4      58.7\n",
       "1578      1581.0  28.1       30.3  13.124167  21.9      69.7\n",
       "1579      1582.0  22.9       22.9  13.084167  20.8      87.6\n",
       "1580      1583.0  24.1       24.4  13.043889  20.3      80.1\n",
       "\n",
       "[1581 rows x 6 columns]"
      ]
     },
     "execution_count": 7,
     "metadata": {},
     "output_type": "execute_result"
    }
   ],
   "source": [
    "cont_data"
   ]
  },
  {
   "cell_type": "code",
   "execution_count": 8,
   "id": "10ecdad1",
   "metadata": {},
   "outputs": [
    {
     "data": {
      "text/plain": [
       "array([[0.00000000e+00, 1.49000000e+01, 1.49000000e+01, 1.38597222e+01,\n",
       "        8.90000000e+00, 6.96000000e+01],\n",
       "       [1.00000000e+00, 1.63000000e+01, 1.63000000e+01, 1.38952778e+01,\n",
       "        6.40000000e+00, 5.40000000e+01],\n",
       "       [2.00000000e+00, 1.86000000e+01, 1.86000000e+01, 1.39305556e+01,\n",
       "        1.34000000e+01, 7.25000000e+01],\n",
       "       ...,\n",
       "       [1.58100000e+03, 2.81000000e+01, 3.03000000e+01, 1.31241667e+01,\n",
       "        2.19000000e+01, 6.97000000e+01],\n",
       "       [1.58200000e+03, 2.29000000e+01, 2.29000000e+01, 1.30841667e+01,\n",
       "        2.08000000e+01, 8.76000000e+01],\n",
       "       [1.58300000e+03, 2.41000000e+01, 2.44000000e+01, 1.30438889e+01,\n",
       "        2.03000000e+01, 8.01000000e+01]])"
      ]
     },
     "execution_count": 8,
     "metadata": {},
     "output_type": "execute_result"
    }
   ],
   "source": [
    "cont_data_matrix = cont_data.to_numpy()\n",
    "cont_data_matrix"
   ]
  },
  {
   "cell_type": "markdown",
   "id": "ea30477e",
   "metadata": {},
   "source": [
    "Standardize data"
   ]
  },
  {
   "cell_type": "code",
   "execution_count": 9,
   "id": "51cfd04e",
   "metadata": {},
   "outputs": [
    {
     "data": {
      "text/plain": [
       "array([[-1.73114198, -0.15437512, -0.08058526,  0.78719273,  0.01675023,\n",
       "         0.42793948],\n",
       "       [-1.72895371,  0.00419089,  0.0555419 ,  0.80594015, -0.24075765,\n",
       "        -0.72165351],\n",
       "       [-1.72676544,  0.26469218,  0.27917938,  0.8245411 ,  0.4802644 ,\n",
       "         0.64164587],\n",
       "       ...,\n",
       "       [ 1.7285108 ,  1.34067578,  1.41681354,  0.39935553,  1.35579117,\n",
       "         0.43530867],\n",
       "       [ 1.73069907,  0.75171634,  0.69728424,  0.37826469,  1.2424877 ,\n",
       "         1.75439293],\n",
       "       [ 1.73288733,  0.88763005,  0.84313478,  0.35702738,  1.19098613,\n",
       "         1.201704  ]])"
      ]
     },
     "execution_count": 9,
     "metadata": {},
     "output_type": "execute_result"
    }
   ],
   "source": [
    "standardized_data = (cont_data_matrix - cont_data_matrix.mean(axis = 0)) / cont_data_matrix.std(axis = 0)\n",
    "standardized_data"
   ]
  },
  {
   "cell_type": "markdown",
   "id": "c1357e1b",
   "metadata": {},
   "source": [
    "Calculate covariance matrix"
   ]
  },
  {
   "cell_type": "code",
   "execution_count": 10,
   "id": "22b446ca",
   "metadata": {},
   "outputs": [
    {
     "data": {
      "text/plain": [
       "array([[ 1.00063291,  0.01603965,  0.01768419,  0.01279526, -0.00631303,\n",
       "        -0.05616281],\n",
       "       [ 0.01603965,  1.00063291,  0.99753135,  0.79773731,  0.93966696,\n",
       "         0.22461157],\n",
       "       [ 0.01768419,  0.99753135,  1.00063291,  0.78653251,  0.94307969,\n",
       "         0.24275836],\n",
       "       [ 0.01279526,  0.79773731,  0.78653251,  1.00063291,  0.68978018,\n",
       "         0.01547879],\n",
       "       [-0.00631303,  0.93966696,  0.94307969,  0.68978018,  1.00063291,\n",
       "         0.54270766],\n",
       "       [-0.05616281,  0.22461157,  0.24275836,  0.01547879,  0.54270766,\n",
       "         1.00063291]])"
      ]
     },
     "execution_count": 10,
     "metadata": {},
     "output_type": "execute_result"
    }
   ],
   "source": [
    "covariance_matrix = np.cov(standardized_data, ddof = 1, rowvar = False)\n",
    "covariance_matrix"
   ]
  },
  {
   "cell_type": "markdown",
   "id": "0deaae86",
   "metadata": {},
   "source": [
    "Calculate the eigenvalues and eigenvectors of the covariance matrix"
   ]
  },
  {
   "cell_type": "code",
   "execution_count": 11,
   "id": "abe4ff4b",
   "metadata": {},
   "outputs": [],
   "source": [
    "eigenvalues, eigenvectors = np.linalg.eig(covariance_matrix)"
   ]
  },
  {
   "cell_type": "code",
   "execution_count": 12,
   "id": "30dedf46",
   "metadata": {},
   "outputs": [
    {
     "data": {
      "text/plain": [
       "array([3.69124965e+00, 1.09790912e+00, 9.64032635e-01, 2.45288938e-01,\n",
       "       4.27433414e-03, 1.04278893e-03])"
      ]
     },
     "execution_count": 12,
     "metadata": {},
     "output_type": "execute_result"
    }
   ],
   "source": [
    "eigenvalues"
   ]
  },
  {
   "cell_type": "code",
   "execution_count": 13,
   "id": "6d0b7950",
   "metadata": {},
   "outputs": [
    {
     "data": {
      "text/plain": [
       "array([[ 3.22359175e-03,  5.25111257e-01, -8.50747745e-01,\n",
       "         2.16989703e-02, -2.27466583e-03,  1.72706567e-04],\n",
       "       [ 5.09971952e-01,  1.06241787e-01,  6.05075337e-02,\n",
       "        -3.11389613e-01, -2.96236276e-01,  7.35024290e-01],\n",
       "       [ 5.10082140e-01,  9.07122787e-02,  4.74624081e-02,\n",
       "        -3.28696848e-01,  7.61568958e-01, -2.03238570e-01],\n",
       "       [ 4.31260273e-01,  3.09575566e-01,  2.13593356e-01,\n",
       "         8.19949511e-01,  1.24110927e-02, -9.17539056e-03],\n",
       "       [ 5.06400871e-01, -1.75325639e-01, -1.09299139e-01,\n",
       "        -1.70213692e-01, -5.47697853e-01, -6.09858293e-01],\n",
       "       [ 1.93150616e-01, -7.60372292e-01, -4.61243979e-01,\n",
       "         3.05342666e-01,  1.79233489e-01,  2.15457704e-01]])"
      ]
     },
     "execution_count": 13,
     "metadata": {},
     "output_type": "execute_result"
    }
   ],
   "source": [
    "eigenvectors"
   ]
  },
  {
   "cell_type": "markdown",
   "id": "2f5c15fe",
   "metadata": {},
   "source": [
    "The eigenvalue tells you the strength or influence of its respective eigenvector, or the characteristic vector of the principal component.\n",
    "\n",
    "The eigenvectors are represented by each column in the above matrix (as that is what the np.linalg.eig function returns)"
   ]
  },
  {
   "cell_type": "code",
   "execution_count": 14,
   "id": "19e3f0ab",
   "metadata": {},
   "outputs": [
    {
     "name": "stdout",
     "output_type": "stream",
     "text": [
      "[3.69124965e+00 1.09790912e+00 9.64032635e-01 2.45288938e-01\n",
      " 4.27433414e-03 1.04278893e-03]\n",
      "[[ 3.22359175e-03  5.25111257e-01 -8.50747745e-01  2.16989703e-02\n",
      "  -2.27466583e-03  1.72706567e-04]\n",
      " [ 5.09971952e-01  1.06241787e-01  6.05075337e-02 -3.11389613e-01\n",
      "  -2.96236276e-01  7.35024290e-01]\n",
      " [ 5.10082140e-01  9.07122787e-02  4.74624081e-02 -3.28696848e-01\n",
      "   7.61568958e-01 -2.03238570e-01]\n",
      " [ 4.31260273e-01  3.09575566e-01  2.13593356e-01  8.19949511e-01\n",
      "   1.24110927e-02 -9.17539056e-03]\n",
      " [ 5.06400871e-01 -1.75325639e-01 -1.09299139e-01 -1.70213692e-01\n",
      "  -5.47697853e-01 -6.09858293e-01]\n",
      " [ 1.93150616e-01 -7.60372292e-01 -4.61243979e-01  3.05342666e-01\n",
      "   1.79233489e-01  2.15457704e-01]]\n"
     ]
    }
   ],
   "source": [
    "order_of_importance = np.argsort(eigenvalues)[::-1] #[::-1] reverses the list\n",
    "sorted_eigenvalues = eigenvalues[order_of_importance]\n",
    "sorted_eigenvectors = eigenvectors[:, order_of_importance]\n",
    "\n",
    "print(sorted_eigenvalues)\n",
    "print(sorted_eigenvectors)"
   ]
  },
  {
   "cell_type": "markdown",
   "id": "745d9624",
   "metadata": {},
   "source": [
    "Calculate the explained variance"
   ]
  },
  {
   "cell_type": "code",
   "execution_count": 15,
   "id": "b6d896f8",
   "metadata": {},
   "outputs": [
    {
     "data": {
      "text/plain": [
       "array([6.14819149e-01, 1.82869114e-01, 1.60570479e-01, 4.08556316e-02,\n",
       "       7.11938429e-04, 1.73688226e-04])"
      ]
     },
     "execution_count": 15,
     "metadata": {},
     "output_type": "execute_result"
    }
   ],
   "source": [
    "explained_var = sorted_eigenvalues/(np.sum(sorted_eigenvalues))\n",
    "explained_var"
   ]
  },
  {
   "cell_type": "markdown",
   "id": "68d578fb",
   "metadata": {},
   "source": [
    "Make a scree plot"
   ]
  },
  {
   "cell_type": "code",
   "execution_count": 16,
   "id": "2d6d1ce8",
   "metadata": {},
   "outputs": [
    {
     "data": {
      "image/png": "[encoded data removed]",
      "text/plain": [
       "<Figure size 640x480 with 1 Axes>"
      ]
     },
     "metadata": {},
     "output_type": "display_data"
    }
   ],
   "source": [
    "fig, ax = plt.subplots()\n",
    "\n",
    "x = ['PC1', 'PC2', 'PC3', 'PC4', 'PC5', 'PC6']\n",
    "y = explained_var\n",
    "\n",
    "plt.bar(x, y, color = 'blue')\n",
    "ax.set_ylim([0, 1])\n",
    "plt.xlabel('Principal Component')\n",
    "plt.ylabel('Proportion of explained variance')\n",
    "plt.title('Scree plot')\n",
    "plt.show()"
   ]
  },
  {
   "cell_type": "code",
   "execution_count": 17,
   "id": "35e01989",
   "metadata": {},
   "outputs": [
    {
     "data": {
      "text/plain": [
       "0.9582587417506968"
      ]
     },
     "execution_count": 17,
     "metadata": {},
     "output_type": "execute_result"
    }
   ],
   "source": [
    "np.sum(explained_var[0:3])"
   ]
  },
  {
   "cell_type": "markdown",
   "id": "f8703c27",
   "metadata": {},
   "source": [
    "As shown from the scree plot and the sum of the first three explained variances, 95% of the data can be explained with three principal components. Thus, this dimensionality reduction will be useful to the model. So, the first three eigenvectors will be used to transform the data."
   ]
  },
  {
   "cell_type": "code",
   "execution_count": 18,
   "id": "065f8739",
   "metadata": {},
   "outputs": [
    {
     "name": "stdout",
     "output_type": "stream",
     "text": [
      "Eigenvectors that will be used:\n",
      "[[ 0.00322359  0.52511126 -0.85074775]\n",
      " [ 0.50997195  0.10624179  0.06050753]\n",
      " [ 0.51008214  0.09071228  0.04746241]\n",
      " [ 0.43126027  0.30957557  0.21359336]\n",
      " [ 0.50640087 -0.17532564 -0.10929914]\n",
      " [ 0.19315062 -0.76037229 -0.46124398]]\n"
     ]
    }
   ],
   "source": [
    "# Original code DONT USE FOR NOW\n",
    "# Show the eigenvectors that will be used\n",
    "print(f'Eigenvectors that will be used:\\n{sorted_eigenvectors[:, :3]}')"
   ]
  },
  {
   "cell_type": "code",
   "execution_count": 19,
   "id": "10c69b08",
   "metadata": {},
   "outputs": [],
   "source": [
    "# # Show the eigenvectors that will be used\n",
    "# print(f'Eigenvectors that will be used:\\n{sorted_eigenvectors[:3, :]}')"
   ]
  },
  {
   "cell_type": "code",
   "execution_count": 20,
   "id": "daa1f8d6",
   "metadata": {},
   "outputs": [
    {
     "data": {
      "text/plain": [
       "array([[ 0.00322359,  0.52511126, -0.85074775],\n",
       "       [ 0.50997195,  0.10624179,  0.06050753],\n",
       "       [ 0.51008214,  0.09071228,  0.04746241],\n",
       "       [ 0.43126027,  0.30957557,  0.21359336],\n",
       "       [ 0.50640087, -0.17532564, -0.10929914],\n",
       "       [ 0.19315062, -0.76037229, -0.46124398]])"
      ]
     },
     "execution_count": 20,
     "metadata": {},
     "output_type": "execute_result"
    }
   ],
   "source": [
    "dimension_matrix = sorted_eigenvectors[:, :3]\n",
    "dimension_matrix"
   ]
  },
  {
   "cell_type": "code",
   "execution_count": 21,
   "id": "82bdefb3",
   "metadata": {},
   "outputs": [],
   "source": [
    "# dimension_matrix = sorted_eigenvectors[:3, :].transpose()\n",
    "# dimension_matrix"
   ]
  },
  {
   "cell_type": "markdown",
   "id": "1efda213",
   "metadata": {},
   "source": [
    "Transform the original data to the principal components by matrix multiplying the standardized data with the first three eigenvectors"
   ]
  },
  {
   "cell_type": "code",
   "execution_count": 22,
   "id": "7f38605f",
   "metadata": {},
   "outputs": [
    {
     "name": "stdout",
     "output_type": "stream",
     "text": [
      "(1581, 6)*(6, 3)\n"
     ]
    }
   ],
   "source": [
    "print(f'{standardized_data.shape}*{dimension_matrix.shape}')"
   ]
  },
  {
   "cell_type": "code",
   "execution_count": 23,
   "id": "e44fe026",
   "metadata": {},
   "outputs": [
    {
     "data": {
      "text/plain": [
       "array([[ 0.30521148, -1.01738774,  1.42852335],\n",
       "       [ 0.11115699, -0.06197378,  2.0051096 ],\n",
       "       [ 0.99455604, -1.17013223,  1.32597692],\n",
       "       ...,\n",
       "       [ 2.35485048,  0.73354777, -1.58583092],\n",
       "       [ 1.87579502, -0.38280473, -2.25802023],\n",
       "       [ 1.87751855,  0.06871885, -1.9887183 ]])"
      ]
     },
     "execution_count": 23,
     "metadata": {},
     "output_type": "execute_result"
    }
   ],
   "source": [
    "transformed_cont_data = np.matmul(standardized_data, dimension_matrix)\n",
    "transformed_cont_data"
   ]
  },
  {
   "cell_type": "markdown",
   "id": "7ba20cf2",
   "metadata": {},
   "source": [
    "**Do we get the same result with sklearn?**"
   ]
  },
  {
   "cell_type": "code",
   "execution_count": 24,
   "id": "d93095a4",
   "metadata": {},
   "outputs": [],
   "source": [
    "from sklearn.preprocessing import StandardScaler\n",
    "from sklearn.decomposition import PCA"
   ]
  },
  {
   "cell_type": "code",
   "execution_count": 25,
   "id": "22810e67",
   "metadata": {},
   "outputs": [
    {
     "data": {
      "text/plain": [
       "array([[0.00000000e+00, 1.49000000e+01, 1.49000000e+01, 1.38597222e+01,\n",
       "        8.90000000e+00, 6.96000000e+01],\n",
       "       [1.00000000e+00, 1.63000000e+01, 1.63000000e+01, 1.38952778e+01,\n",
       "        6.40000000e+00, 5.40000000e+01],\n",
       "       [2.00000000e+00, 1.86000000e+01, 1.86000000e+01, 1.39305556e+01,\n",
       "        1.34000000e+01, 7.25000000e+01],\n",
       "       ...,\n",
       "       [1.58100000e+03, 2.81000000e+01, 3.03000000e+01, 1.31241667e+01,\n",
       "        2.19000000e+01, 6.97000000e+01],\n",
       "       [1.58200000e+03, 2.29000000e+01, 2.29000000e+01, 1.30841667e+01,\n",
       "        2.08000000e+01, 8.76000000e+01],\n",
       "       [1.58300000e+03, 2.41000000e+01, 2.44000000e+01, 1.30438889e+01,\n",
       "        2.03000000e+01, 8.01000000e+01]])"
      ]
     },
     "execution_count": 25,
     "metadata": {},
     "output_type": "execute_result"
    }
   ],
   "source": [
    "cont_data_skl = cont_data.values\n",
    "cont_data_skl"
   ]
  },
  {
   "cell_type": "code",
   "execution_count": 26,
   "id": "5ac049c9",
   "metadata": {},
   "outputs": [
    {
     "data": {
      "text/plain": [
       "array([[-1.73114198, -0.15437512, -0.08058526,  0.78719273,  0.01675023,\n",
       "         0.42793948],\n",
       "       [-1.72895371,  0.00419089,  0.0555419 ,  0.80594015, -0.24075765,\n",
       "        -0.72165351],\n",
       "       [-1.72676544,  0.26469218,  0.27917938,  0.8245411 ,  0.4802644 ,\n",
       "         0.64164587],\n",
       "       ...,\n",
       "       [ 1.7285108 ,  1.34067578,  1.41681354,  0.39935553,  1.35579117,\n",
       "         0.43530867],\n",
       "       [ 1.73069907,  0.75171634,  0.69728424,  0.37826469,  1.2424877 ,\n",
       "         1.75439293],\n",
       "       [ 1.73288733,  0.88763005,  0.84313478,  0.35702738,  1.19098613,\n",
       "         1.201704  ]])"
      ]
     },
     "execution_count": 26,
     "metadata": {},
     "output_type": "execute_result"
    }
   ],
   "source": [
    "scaled_data_skl = StandardScaler().fit_transform(cont_data_skl)\n",
    "scaled_data_skl"
   ]
  },
  {
   "cell_type": "code",
   "execution_count": 27,
   "id": "85485758",
   "metadata": {},
   "outputs": [
    {
     "data": {
      "text/plain": [
       "array([[-0.30521148,  1.01738774,  1.42852335],\n",
       "       [-0.11115699,  0.06197378,  2.0051096 ],\n",
       "       [-0.99455604,  1.17013223,  1.32597692],\n",
       "       ...,\n",
       "       [-2.35485048, -0.73354777, -1.58583092],\n",
       "       [-1.87579502,  0.38280473, -2.25802023],\n",
       "       [-1.87751855, -0.06871885, -1.9887183 ]])"
      ]
     },
     "execution_count": 27,
     "metadata": {},
     "output_type": "execute_result"
    }
   ],
   "source": [
    "PCA_cont_data = PCA(n_components = 3)\n",
    "transformed_cont_data_skl = PCA_cont_data.fit_transform(scaled_data_skl)\n",
    "transformed_cont_data_skl"
   ]
  },
  {
   "cell_type": "markdown",
   "id": "6a8e0ba0",
   "metadata": {},
   "source": [
    "Lets compare the results"
   ]
  },
  {
   "cell_type": "code",
   "execution_count": 28,
   "id": "d2d532b7",
   "metadata": {},
   "outputs": [
    {
     "name": "stdout",
     "output_type": "stream",
     "text": [
      "Results from PCA\n",
      "From scratch:\n",
      "[[ 0.30521148 -1.01738774  1.42852335]\n",
      " [ 0.11115699 -0.06197378  2.0051096 ]\n",
      " [ 0.99455604 -1.17013223  1.32597692]\n",
      " ...\n",
      " [ 2.35485048  0.73354777 -1.58583092]\n",
      " [ 1.87579502 -0.38280473 -2.25802023]\n",
      " [ 1.87751855  0.06871885 -1.9887183 ]]\n",
      "With sklearn:\n",
      "[[-0.30521148  1.01738774  1.42852335]\n",
      " [-0.11115699  0.06197378  2.0051096 ]\n",
      " [-0.99455604  1.17013223  1.32597692]\n",
      " ...\n",
      " [-2.35485048 -0.73354777 -1.58583092]\n",
      " [-1.87579502  0.38280473 -2.25802023]\n",
      " [-1.87751855 -0.06871885 -1.9887183 ]]\n"
     ]
    }
   ],
   "source": [
    "print('Results from PCA')\n",
    "print(f'From scratch:\\n{transformed_cont_data}')\n",
    "\n",
    "print(f'With sklearn:\\n{transformed_cont_data_skl}')"
   ]
  },
  {
   "cell_type": "code",
   "execution_count": 29,
   "id": "3590f3da",
   "metadata": {
    "scrolled": true
   },
   "outputs": [
    {
     "name": "stdout",
     "output_type": "stream",
     "text": [
      "The eigenvectors used: \n",
      "From scratch:\n",
      " [[ 0.00322359  0.52511126 -0.85074775]\n",
      " [ 0.50997195  0.10624179  0.06050753]\n",
      " [ 0.51008214  0.09071228  0.04746241]\n",
      " [ 0.43126027  0.30957557  0.21359336]\n",
      " [ 0.50640087 -0.17532564 -0.10929914]\n",
      " [ 0.19315062 -0.76037229 -0.46124398]]\n",
      "With sklearn:\n",
      " [[-0.00322359 -0.52511126 -0.85074775]\n",
      " [-0.50997195 -0.10624179  0.06050753]\n",
      " [-0.51008214 -0.09071228  0.04746241]\n",
      " [-0.43126027 -0.30957557  0.21359336]\n",
      " [-0.50640087  0.17532564 -0.10929914]\n",
      " [-0.19315062  0.76037229 -0.46124398]]\n"
     ]
    }
   ],
   "source": [
    "print('The eigenvectors used: ')\n",
    "\n",
    "print(f'From scratch:\\n {dimension_matrix}')\n",
    "print(f'With sklearn:\\n {PCA_cont_data.fit(scaled_data_skl).components_.transpose()}')"
   ]
  },
  {
   "cell_type": "markdown",
   "id": "2b2c3e54",
   "metadata": {},
   "source": [
    "The results have differences in the signage of the second and third columns because the first and second eigenvectors computed by sklearn have opposite signs. While the signs are opposite, the eigenvectors computed by scratch and from sklearn are equivalent because they are simply scaled from each other by -1, and this will not change the position of the datapoints in the new space. Therefore, both solutions are equal and valid."
   ]
  },
  {
   "cell_type": "markdown",
   "id": "18d7c4e4",
   "metadata": {},
   "source": [
    "### Linear Regression"
   ]
  },
  {
   "cell_type": "markdown",
   "id": "37c8ed2f",
   "metadata": {},
   "source": [
    "To carry out the linear regression we will combine the prinicpal components data with the discrete variables data to a dataframe"
   ]
  },
  {
   "cell_type": "code",
   "execution_count": 30,
   "id": "89d79838",
   "metadata": {},
   "outputs": [
    {
     "data": {
      "text/html": [
       "<div>\n",
       "<style scoped>\n",
       "    .dataframe tbody tr th:only-of-type {\n",
       "        vertical-align: middle;\n",
       "    }\n",
       "\n",
       "    .dataframe tbody tr th {\n",
       "        vertical-align: top;\n",
       "    }\n",
       "\n",
       "    .dataframe thead th {\n",
       "        text-align: right;\n",
       "    }\n",
       "</style>\n",
       "<table border=\"1\" class=\"dataframe\">\n",
       "  <thead>\n",
       "    <tr style=\"text-align: right;\">\n",
       "      <th></th>\n",
       "      <th>PC1</th>\n",
       "      <th>PC2</th>\n",
       "      <th>PC3</th>\n",
       "      <th>SnowLevel</th>\n",
       "      <th>PrecipCover</th>\n",
       "      <th>PrecipLevel</th>\n",
       "      <th>TotalRides</th>\n",
       "      <th>TotalRideMins</th>\n",
       "    </tr>\n",
       "  </thead>\n",
       "  <tbody>\n",
       "    <tr>\n",
       "      <th>0</th>\n",
       "      <td>0.305211</td>\n",
       "      <td>-1.017388</td>\n",
       "      <td>1.428523</td>\n",
       "      <td>0</td>\n",
       "      <td>29.17</td>\n",
       "      <td>0 &lt; x &lt;= 10</td>\n",
       "      <td>2969</td>\n",
       "      <td>91076.58</td>\n",
       "    </tr>\n",
       "    <tr>\n",
       "      <th>1</th>\n",
       "      <td>0.111157</td>\n",
       "      <td>-0.061974</td>\n",
       "      <td>2.005110</td>\n",
       "      <td>0</td>\n",
       "      <td>0.00</td>\n",
       "      <td>0</td>\n",
       "      <td>9028</td>\n",
       "      <td>897015.15</td>\n",
       "    </tr>\n",
       "    <tr>\n",
       "      <th>2</th>\n",
       "      <td>0.994556</td>\n",
       "      <td>-1.170132</td>\n",
       "      <td>1.325977</td>\n",
       "      <td>0</td>\n",
       "      <td>16.67</td>\n",
       "      <td>10 &lt; x &lt;= 20</td>\n",
       "      <td>3663</td>\n",
       "      <td>190313.00</td>\n",
       "    </tr>\n",
       "    <tr>\n",
       "      <th>3</th>\n",
       "      <td>0.508666</td>\n",
       "      <td>-0.001805</td>\n",
       "      <td>2.033595</td>\n",
       "      <td>0</td>\n",
       "      <td>12.50</td>\n",
       "      <td>10 &lt; x &lt;= 20</td>\n",
       "      <td>3718</td>\n",
       "      <td>230021.55</td>\n",
       "    </tr>\n",
       "    <tr>\n",
       "      <th>4</th>\n",
       "      <td>-0.443346</td>\n",
       "      <td>-0.160326</td>\n",
       "      <td>1.945008</td>\n",
       "      <td>0</td>\n",
       "      <td>16.67</td>\n",
       "      <td>0 &lt; x &lt;= 10</td>\n",
       "      <td>2374</td>\n",
       "      <td>90237.02</td>\n",
       "    </tr>\n",
       "  </tbody>\n",
       "</table>\n",
       "</div>"
      ],
      "text/plain": [
       "        PC1       PC2       PC3 SnowLevel  PrecipCover   PrecipLevel  \\\n",
       "0  0.305211 -1.017388  1.428523         0        29.17   0 < x <= 10   \n",
       "1  0.111157 -0.061974  2.005110         0         0.00             0   \n",
       "2  0.994556 -1.170132  1.325977         0        16.67  10 < x <= 20   \n",
       "3  0.508666 -0.001805  2.033595         0        12.50  10 < x <= 20   \n",
       "4 -0.443346 -0.160326  1.945008         0        16.67   0 < x <= 10   \n",
       "\n",
       "   TotalRides  TotalRideMins  \n",
       "0        2969       91076.58  \n",
       "1        9028      897015.15  \n",
       "2        3663      190313.00  \n",
       "3        3718      230021.55  \n",
       "4        2374       90237.02  "
      ]
     },
     "execution_count": 30,
     "metadata": {},
     "output_type": "execute_result"
    }
   ],
   "source": [
    "# Combine the PCA data with the discrete variables to make a dataframe\n",
    "df = pd.DataFrame({\n",
    "    'PC1': transformed_cont_data[:, 0],\n",
    "    'PC2': transformed_cont_data[:, 1],\n",
    "    'PC3': transformed_cont_data[:, 2],\n",
    "    'SnowLevel': rides_weather.loc[:, 'snowLevel'],\n",
    "    'PrecipCover': rides_weather.loc[:, 'precipcover'],\n",
    "    'PrecipLevel': rides_weather.loc[:, 'precipLevel'],\n",
    "    'TotalRides': rides_weather.loc[:, 'total_rides'],\n",
    "    'TotalRideMins': rides_weather.loc[:, 'total_duration_mins']\n",
    "})\n",
    "\n",
    "df.head(5)"
   ]
  },
  {
   "cell_type": "markdown",
   "id": "f146c1ec",
   "metadata": {},
   "source": [
    "Set up X and y"
   ]
  },
  {
   "cell_type": "code",
   "execution_count": 31,
   "id": "f6e749c0",
   "metadata": {},
   "outputs": [],
   "source": [
    "X = df.drop(['TotalRides', 'TotalRideMins'], axis = 1)\n",
    "y = df['TotalRides']"
   ]
  },
  {
   "cell_type": "markdown",
   "id": "50eea6ac",
   "metadata": {},
   "source": [
    "Use the one hot encoder to make the preprocessing transformation"
   ]
  },
  {
   "cell_type": "code",
   "execution_count": 32,
   "id": "615dac59",
   "metadata": {},
   "outputs": [
    {
     "data": {
      "text/html": [
       "<div>\n",
       "<style scoped>\n",
       "    .dataframe tbody tr th:only-of-type {\n",
       "        vertical-align: middle;\n",
       "    }\n",
       "\n",
       "    .dataframe tbody tr th {\n",
       "        vertical-align: top;\n",
       "    }\n",
       "\n",
       "    .dataframe thead th {\n",
       "        text-align: right;\n",
       "    }\n",
       "</style>\n",
       "<table border=\"1\" class=\"dataframe\">\n",
       "  <thead>\n",
       "    <tr style=\"text-align: right;\">\n",
       "      <th></th>\n",
       "      <th>PC1</th>\n",
       "      <th>PC2</th>\n",
       "      <th>PC3</th>\n",
       "      <th>SnowLevel_0</th>\n",
       "      <th>SnowLevel_&gt; 0</th>\n",
       "      <th>PrecipCover_0.0</th>\n",
       "      <th>PrecipCover_4.17</th>\n",
       "      <th>PrecipCover_8.33</th>\n",
       "      <th>PrecipCover_12.5</th>\n",
       "      <th>PrecipCover_16.67</th>\n",
       "      <th>...</th>\n",
       "      <th>PrecipCover_79.17</th>\n",
       "      <th>PrecipCover_83.33</th>\n",
       "      <th>PrecipCover_87.5</th>\n",
       "      <th>PrecipCover_91.67</th>\n",
       "      <th>PrecipCover_95.83</th>\n",
       "      <th>PrecipLevel_0</th>\n",
       "      <th>PrecipLevel_0 &lt; x &lt;= 10</th>\n",
       "      <th>PrecipLevel_10 &lt; x &lt;= 20</th>\n",
       "      <th>PrecipLevel_20 &lt; x &lt;= 30</th>\n",
       "      <th>PrecipLevel_&gt; 30</th>\n",
       "    </tr>\n",
       "  </thead>\n",
       "  <tbody>\n",
       "    <tr>\n",
       "      <th>0</th>\n",
       "      <td>0.305211</td>\n",
       "      <td>-1.017388</td>\n",
       "      <td>1.428523</td>\n",
       "      <td>1</td>\n",
       "      <td>0</td>\n",
       "      <td>0</td>\n",
       "      <td>0</td>\n",
       "      <td>0</td>\n",
       "      <td>0</td>\n",
       "      <td>0</td>\n",
       "      <td>...</td>\n",
       "      <td>0</td>\n",
       "      <td>0</td>\n",
       "      <td>0</td>\n",
       "      <td>0</td>\n",
       "      <td>0</td>\n",
       "      <td>0</td>\n",
       "      <td>1</td>\n",
       "      <td>0</td>\n",
       "      <td>0</td>\n",
       "      <td>0</td>\n",
       "    </tr>\n",
       "    <tr>\n",
       "      <th>1</th>\n",
       "      <td>0.111157</td>\n",
       "      <td>-0.061974</td>\n",
       "      <td>2.005110</td>\n",
       "      <td>1</td>\n",
       "      <td>0</td>\n",
       "      <td>1</td>\n",
       "      <td>0</td>\n",
       "      <td>0</td>\n",
       "      <td>0</td>\n",
       "      <td>0</td>\n",
       "      <td>...</td>\n",
       "      <td>0</td>\n",
       "      <td>0</td>\n",
       "      <td>0</td>\n",
       "      <td>0</td>\n",
       "      <td>0</td>\n",
       "      <td>1</td>\n",
       "      <td>0</td>\n",
       "      <td>0</td>\n",
       "      <td>0</td>\n",
       "      <td>0</td>\n",
       "    </tr>\n",
       "    <tr>\n",
       "      <th>2</th>\n",
       "      <td>0.994556</td>\n",
       "      <td>-1.170132</td>\n",
       "      <td>1.325977</td>\n",
       "      <td>1</td>\n",
       "      <td>0</td>\n",
       "      <td>0</td>\n",
       "      <td>0</td>\n",
       "      <td>0</td>\n",
       "      <td>0</td>\n",
       "      <td>1</td>\n",
       "      <td>...</td>\n",
       "      <td>0</td>\n",
       "      <td>0</td>\n",
       "      <td>0</td>\n",
       "      <td>0</td>\n",
       "      <td>0</td>\n",
       "      <td>0</td>\n",
       "      <td>0</td>\n",
       "      <td>1</td>\n",
       "      <td>0</td>\n",
       "      <td>0</td>\n",
       "    </tr>\n",
       "    <tr>\n",
       "      <th>3</th>\n",
       "      <td>0.508666</td>\n",
       "      <td>-0.001805</td>\n",
       "      <td>2.033595</td>\n",
       "      <td>1</td>\n",
       "      <td>0</td>\n",
       "      <td>0</td>\n",
       "      <td>0</td>\n",
       "      <td>0</td>\n",
       "      <td>1</td>\n",
       "      <td>0</td>\n",
       "      <td>...</td>\n",
       "      <td>0</td>\n",
       "      <td>0</td>\n",
       "      <td>0</td>\n",
       "      <td>0</td>\n",
       "      <td>0</td>\n",
       "      <td>0</td>\n",
       "      <td>0</td>\n",
       "      <td>1</td>\n",
       "      <td>0</td>\n",
       "      <td>0</td>\n",
       "    </tr>\n",
       "    <tr>\n",
       "      <th>4</th>\n",
       "      <td>-0.443346</td>\n",
       "      <td>-0.160326</td>\n",
       "      <td>1.945008</td>\n",
       "      <td>1</td>\n",
       "      <td>0</td>\n",
       "      <td>0</td>\n",
       "      <td>0</td>\n",
       "      <td>0</td>\n",
       "      <td>0</td>\n",
       "      <td>1</td>\n",
       "      <td>...</td>\n",
       "      <td>0</td>\n",
       "      <td>0</td>\n",
       "      <td>0</td>\n",
       "      <td>0</td>\n",
       "      <td>0</td>\n",
       "      <td>0</td>\n",
       "      <td>1</td>\n",
       "      <td>0</td>\n",
       "      <td>0</td>\n",
       "      <td>0</td>\n",
       "    </tr>\n",
       "  </tbody>\n",
       "</table>\n",
       "<p>5 rows × 34 columns</p>\n",
       "</div>"
      ],
      "text/plain": [
       "        PC1       PC2       PC3  SnowLevel_0  SnowLevel_> 0  PrecipCover_0.0  \\\n",
       "0  0.305211 -1.017388  1.428523            1              0                0   \n",
       "1  0.111157 -0.061974  2.005110            1              0                1   \n",
       "2  0.994556 -1.170132  1.325977            1              0                0   \n",
       "3  0.508666 -0.001805  2.033595            1              0                0   \n",
       "4 -0.443346 -0.160326  1.945008            1              0                0   \n",
       "\n",
       "   PrecipCover_4.17  PrecipCover_8.33  PrecipCover_12.5  PrecipCover_16.67  \\\n",
       "0                 0                 0                 0                  0   \n",
       "1                 0                 0                 0                  0   \n",
       "2                 0                 0                 0                  1   \n",
       "3                 0                 0                 1                  0   \n",
       "4                 0                 0                 0                  1   \n",
       "\n",
       "   ...  PrecipCover_79.17  PrecipCover_83.33  PrecipCover_87.5  \\\n",
       "0  ...                  0                  0                 0   \n",
       "1  ...                  0                  0                 0   \n",
       "2  ...                  0                  0                 0   \n",
       "3  ...                  0                  0                 0   \n",
       "4  ...                  0                  0                 0   \n",
       "\n",
       "   PrecipCover_91.67  PrecipCover_95.83  PrecipLevel_0  \\\n",
       "0                  0                  0              0   \n",
       "1                  0                  0              1   \n",
       "2                  0                  0              0   \n",
       "3                  0                  0              0   \n",
       "4                  0                  0              0   \n",
       "\n",
       "   PrecipLevel_0 < x <= 10  PrecipLevel_10 < x <= 20  \\\n",
       "0                        1                         0   \n",
       "1                        0                         0   \n",
       "2                        0                         1   \n",
       "3                        0                         1   \n",
       "4                        1                         0   \n",
       "\n",
       "   PrecipLevel_20 < x <= 30  PrecipLevel_> 30  \n",
       "0                         0                 0  \n",
       "1                         0                 0  \n",
       "2                         0                 0  \n",
       "3                         0                 0  \n",
       "4                         0                 0  \n",
       "\n",
       "[5 rows x 34 columns]"
      ]
     },
     "execution_count": 32,
     "metadata": {},
     "output_type": "execute_result"
    }
   ],
   "source": [
    "from sklearn.preprocessing import OneHotEncoder\n",
    "\n",
    "#Creates a dataframe of encoded variables\n",
    "cat_vars = X.loc[:, ['SnowLevel', 'PrecipCover', 'PrecipLevel']]\n",
    "ohe = OneHotEncoder()\n",
    "cat_df = ohe.fit_transform(cat_vars)\n",
    "cat_df = pd.DataFrame(cat_df.toarray(), columns = ohe.get_feature_names_out(), dtype = int)\n",
    "\n",
    "# Creates a dataframe of numerical variables\n",
    "num_vars = X.drop(['SnowLevel', 'PrecipCover', 'PrecipLevel'], axis = 1)\n",
    "\n",
    "# Joins the two dataframes together and prints out the result\n",
    "X_preprocessed = num_vars.merge(cat_df, left_index = True, right_index = True)\n",
    "X_preprocessed.head(5)"
   ]
  },
  {
   "cell_type": "markdown",
   "id": "52d330e3",
   "metadata": {},
   "source": [
    "Define a linear regression model and fit it to the data"
   ]
  },
  {
   "cell_type": "code",
   "execution_count": 33,
   "id": "cfcafec5",
   "metadata": {},
   "outputs": [],
   "source": [
    "# Import libraries\n",
    "from sklearn.linear_model import LinearRegression\n",
    "from sklearn.model_selection import train_test_split\n",
    "from sklearn.metrics import mean_squared_error\n",
    "from sklearn.metrics import r2_score\n",
    "\n",
    "# Define a train-test split\n",
    "X_train, X_test, y_train, y_test = train_test_split(X_preprocessed, y, test_size = 0.2, random_state = 1)\n",
    "\n",
    "# Define a linear regression model\n",
    "mdl = LinearRegression()\n",
    "# Train the model\n",
    "mdl.fit(X_train, y_train)\n",
    "\n",
    "# Make predictions\n",
    "y_hat = mdl.predict(X_test)\n",
    "\n",
    "# Make predictions on training data\n",
    "y_hat_train = mdl.predict(X_train)"
   ]
  },
  {
   "cell_type": "code",
   "execution_count": 34,
   "id": "1358e894",
   "metadata": {},
   "outputs": [
    {
     "name": "stdout",
     "output_type": "stream",
     "text": [
      "RMSE (test data): 2199.2845836388524\n",
      "RMSE (training data): 1988.602177777037\n"
     ]
    }
   ],
   "source": [
    "# Evaluating the model\n",
    "\n",
    "# Test data\n",
    "mse = mean_squared_error(y_test, y_hat)\n",
    "rmse = np.sqrt(mse)\n",
    "print(f'RMSE (test data): {rmse}')\n",
    "\n",
    "# Training data\n",
    "mse_train = mean_squared_error(y_train, y_hat_train)\n",
    "rmse_train = np.sqrt(mse_train)\n",
    "print(f'RMSE (training data): {rmse_train}')"
   ]
  },
  {
   "cell_type": "code",
   "execution_count": 35,
   "id": "2cd30879",
   "metadata": {},
   "outputs": [
    {
     "name": "stdout",
     "output_type": "stream",
     "text": [
      "R-squared (test data): 0.7944691572464271\n",
      "R-squared (training data): 0.8279375835869147\n"
     ]
    }
   ],
   "source": [
    "# Calculating R-squared\n",
    "\n",
    "# Test data\n",
    "r_squared = r2_score(y_test, y_hat)\n",
    "print(f'R-squared (test data): {r_squared}')\n",
    "\n",
    "# Training data\n",
    "r_squared_train = r2_score(y_train, y_hat_train)\n",
    "print(f'R-squared (training data): {r_squared_train}')"
   ]
  },
  {
   "cell_type": "markdown",
   "id": "faa3644d",
   "metadata": {},
   "source": [
    "Appoximately 79% of the variation in data can be explained by the linear regression model, with a typical estimate being off by approximately 2200 rides per day."
   ]
  },
  {
   "cell_type": "markdown",
   "id": "7118b58e",
   "metadata": {},
   "source": [
    "### Random Forest Regressor"
   ]
  },
  {
   "cell_type": "code",
   "execution_count": 36,
   "id": "fea29dc1",
   "metadata": {},
   "outputs": [],
   "source": [
    "# Import library\n",
    "from sklearn.ensemble import RandomForestRegressor\n",
    "\n",
    "# Define model object\n",
    "rf_mdl = RandomForestRegressor(random_state = 1)\n",
    "\n",
    "# Train the model\n",
    "rf_mdl.fit(X_train, y_train)\n",
    "\n",
    "# Make predictions (test data)\n",
    "y_hat = rf_mdl.predict(X_test)\n",
    "\n",
    "# Make predictions (training data)\n",
    "y_hat_train = rf_mdl.predict(X_train)"
   ]
  },
  {
   "cell_type": "code",
   "execution_count": 37,
   "id": "0f1941b6",
   "metadata": {},
   "outputs": [
    {
     "name": "stdout",
     "output_type": "stream",
     "text": [
      "RMSE (test data): 1801.8193042204632\n",
      "RMSE (training data): 679.9444510338857\n"
     ]
    }
   ],
   "source": [
    "# Evaluate the model\n",
    "\n",
    "# Test data\n",
    "mse = mean_squared_error(y_test, y_hat)\n",
    "rmse = np.sqrt(mse)\n",
    "print(f'RMSE (test data): {rmse}')\n",
    "\n",
    "# Training data\n",
    "mse_train = mean_squared_error(y_train, y_hat_train)\n",
    "rmse_train = np.sqrt(mse_train)\n",
    "print(f'RMSE (training data): {rmse_train}')"
   ]
  },
  {
   "cell_type": "code",
   "execution_count": 38,
   "id": "ea6d1ba4",
   "metadata": {},
   "outputs": [
    {
     "name": "stdout",
     "output_type": "stream",
     "text": [
      "R-squared (test data): 0.8620452640927836\n",
      "R-squared (training data): 0.9798842113415799\n"
     ]
    }
   ],
   "source": [
    "# Calculating R-squared\n",
    "\n",
    "# Test data\n",
    "r_squared = r2_score(y_test, y_hat)\n",
    "print(f'R-squared (test data): {r_squared}')\n",
    "\n",
    "# Training data\n",
    "r_squared_train = r2_score(y_train, y_hat_train)\n",
    "print(f'R-squared (training data): {r_squared_train}')"
   ]
  },
  {
   "cell_type": "markdown",
   "id": "c41ffe2c",
   "metadata": {},
   "source": [
    "The random forest regressor is much better than the linear regression, but there is some overfitting going on, so a gridsearch/regularization will be used to optimize performance."
   ]
  },
  {
   "cell_type": "code",
   "execution_count": 39,
   "id": "edc9b430",
   "metadata": {},
   "outputs": [],
   "source": [
    "# Import the library\n",
    "from sklearn.model_selection import GridSearchCV\n",
    "\n",
    "# Define a param grid\n",
    "param_grid = {\n",
    "    'n_estimators': [100],\n",
    "    'max_depth': [20, 10, 5],\n",
    "    'min_samples_leaf': [20, 50, 100]\n",
    "}\n",
    "\n",
    "scoring = 'r2'\n",
    "\n",
    "# Optimize parameters\n",
    "rf_mdl_gcv = GridSearchCV(estimator = rf_mdl, param_grid = param_grid, cv = 5, scoring = scoring)\n",
    "rf_mdl_gcv_results = rf_mdl_gcv.fit(X_train, y_train)"
   ]
  },
  {
   "cell_type": "code",
   "execution_count": 40,
   "id": "c8f10db9",
   "metadata": {},
   "outputs": [
    {
     "data": {
      "text/plain": [
       "{'max_depth': 20, 'min_samples_leaf': 20, 'n_estimators': 100}"
      ]
     },
     "execution_count": 40,
     "metadata": {},
     "output_type": "execute_result"
    }
   ],
   "source": [
    "rf_mdl_gcv_results.best_params_"
   ]
  },
  {
   "cell_type": "code",
   "execution_count": 41,
   "id": "d740a7cf",
   "metadata": {},
   "outputs": [
    {
     "name": "stdout",
     "output_type": "stream",
     "text": [
      "RMSE (test data): 2082.466506592585\n",
      "RMSE (training data): 1834.0358679909061\n",
      "R-squared (test data): 0.8157233988524324\n",
      "R-squared (training data): 0.8536455789393181\n"
     ]
    }
   ],
   "source": [
    "# Make predictions\n",
    "y_hat = rf_mdl_gcv.predict(X_test)\n",
    "y_hat_train = rf_mdl_gcv.predict(X_train)\n",
    "\n",
    "# Evaluate the model\n",
    "\n",
    "# Test data\n",
    "mse = mean_squared_error(y_test, y_hat)\n",
    "rmse = np.sqrt(mse)\n",
    "print(f'RMSE (test data): {rmse}')\n",
    "\n",
    "# Training data\n",
    "mse_train = mean_squared_error(y_train, y_hat_train)\n",
    "rmse_train = np.sqrt(mse_train)\n",
    "print(f'RMSE (training data): {rmse_train}')\n",
    "\n",
    "# Calculating R-squared\n",
    "\n",
    "# Test data\n",
    "r_squared = r2_score(y_test, y_hat)\n",
    "print(f'R-squared (test data): {r_squared}')\n",
    "\n",
    "# Training data\n",
    "r_squared_train = r2_score(y_train, y_hat_train)\n",
    "print(f'R-squared (training data): {r_squared_train}')"
   ]
  },
  {
   "cell_type": "markdown",
   "id": "9aebd6e7",
   "metadata": {},
   "source": [
    "These results show that the model can explain 81% of the variation with the current variables and that predictions made have a typical error of 1834 rides."
   ]
  }
 ],
 "metadata": {
  "kernelspec": {
   "display_name": "Python 3 (ipykernel)",
   "language": "python",
   "name": "python3"
  },
  "language_info": {
   "codemirror_mode": {
    "name": "ipython",
    "version": 3
   },
   "file_extension": ".py",
   "mimetype": "text/x-python",
   "name": "python",
   "nbconvert_exporter": "python",
   "pygments_lexer": "ipython3",
   "version": "3.9.19"
  }
 },
 "nbformat": 4,
 "nbformat_minor": 5
}
